{
 "cells": [
  {
   "cell_type": "code",
   "execution_count": 1,
   "metadata": {},
   "outputs": [],
   "source": [
    "import pandas as pd\n",
    "import geopandas as gpd\n",
    "\n",
    "pd.set_option('display.max_columns', None)"
   ]
  },
  {
   "cell_type": "code",
   "execution_count": 2,
   "metadata": {},
   "outputs": [
    {
     "data": {
      "text/html": [
       "<div>\n",
       "<style scoped>\n",
       "    .dataframe tbody tr th:only-of-type {\n",
       "        vertical-align: middle;\n",
       "    }\n",
       "\n",
       "    .dataframe tbody tr th {\n",
       "        vertical-align: top;\n",
       "    }\n",
       "\n",
       "    .dataframe thead th {\n",
       "        text-align: right;\n",
       "    }\n",
       "</style>\n",
       "<table border=\"1\" class=\"dataframe\">\n",
       "  <thead>\n",
       "    <tr style=\"text-align: right;\">\n",
       "      <th></th>\n",
       "      <th>name</th>\n",
       "      <th>boro</th>\n",
       "      <th>osm_name</th>\n",
       "      <th>front_card</th>\n",
       "      <th>middle_card</th>\n",
       "      <th>back_card</th>\n",
       "      <th>st_num</th>\n",
       "      <th>way_type</th>\n",
       "      <th>way_name</th>\n",
       "      <th>geometry</th>\n",
       "    </tr>\n",
       "  </thead>\n",
       "  <tbody>\n",
       "    <tr>\n",
       "      <th>0</th>\n",
       "      <td>100 avenue</td>\n",
       "      <td>queens</td>\n",
       "      <td>100th avenue</td>\n",
       "      <td>None</td>\n",
       "      <td>None</td>\n",
       "      <td>None</td>\n",
       "      <td>100</td>\n",
       "      <td>avenue</td>\n",
       "      <td>None</td>\n",
       "      <td>MULTILINESTRING ((-73.74175 40.71573, -73.7413...</td>\n",
       "    </tr>\n",
       "    <tr>\n",
       "      <th>1</th>\n",
       "      <td>100 drive</td>\n",
       "      <td>queens</td>\n",
       "      <td>100th drive</td>\n",
       "      <td>None</td>\n",
       "      <td>None</td>\n",
       "      <td>None</td>\n",
       "      <td>100</td>\n",
       "      <td>drive</td>\n",
       "      <td>None</td>\n",
       "      <td>MULTILINESTRING ((-73.73203 40.71458, -73.7319...</td>\n",
       "    </tr>\n",
       "    <tr>\n",
       "      <th>2</th>\n",
       "      <td>100 place</td>\n",
       "      <td>queens</td>\n",
       "      <td>100th place</td>\n",
       "      <td>None</td>\n",
       "      <td>None</td>\n",
       "      <td>None</td>\n",
       "      <td>100</td>\n",
       "      <td>place</td>\n",
       "      <td>None</td>\n",
       "      <td>LINESTRING (-73.81879 40.60576, -73.81889 40.6...</td>\n",
       "    </tr>\n",
       "  </tbody>\n",
       "</table>\n",
       "</div>"
      ],
      "text/plain": [
       "         name    boro      osm_name front_card middle_card back_card st_num  \\\n",
       "0  100 avenue  queens  100th avenue       None        None      None    100   \n",
       "1   100 drive  queens   100th drive       None        None      None    100   \n",
       "2   100 place  queens   100th place       None        None      None    100   \n",
       "\n",
       "  way_type way_name                                           geometry  \n",
       "0   avenue     None  MULTILINESTRING ((-73.74175 40.71573, -73.7413...  \n",
       "1    drive     None  MULTILINESTRING ((-73.73203 40.71458, -73.7319...  \n",
       "2    place     None  LINESTRING (-73.81879 40.60576, -73.81889 40.6...  "
      ]
     },
     "execution_count": 2,
     "metadata": {},
     "output_type": "execute_result"
    }
   ],
   "source": [
    "streets = gpd.read_file('../data/nyc_clean.geojson')\n",
    "streets.head(3)"
   ]
  },
  {
   "cell_type": "code",
   "execution_count": 3,
   "metadata": {},
   "outputs": [
    {
     "name": "stdout",
     "output_type": "stream",
     "text": [
      "<class 'geopandas.geodataframe.GeoDataFrame'>\n",
      "RangeIndex: 9436 entries, 0 to 9435\n",
      "Data columns (total 10 columns):\n",
      " #   Column       Non-Null Count  Dtype   \n",
      "---  ------       --------------  -----   \n",
      " 0   name         9436 non-null   object  \n",
      " 1   boro         9436 non-null   object  \n",
      " 2   osm_name     9436 non-null   object  \n",
      " 3   front_card   883 non-null    object  \n",
      " 4   middle_card  9 non-null      object  \n",
      " 5   back_card    150 non-null    object  \n",
      " 6   st_num       2004 non-null   object  \n",
      " 7   way_type     8998 non-null   object  \n",
      " 8   way_name     7735 non-null   object  \n",
      " 9   geometry     9436 non-null   geometry\n",
      "dtypes: geometry(1), object(9)\n",
      "memory usage: 737.3+ KB\n"
     ]
    }
   ],
   "source": [
    "streets.info()"
   ]
  },
  {
   "cell_type": "code",
   "execution_count": 4,
   "metadata": {},
   "outputs": [],
   "source": [
    "# Check all streets for intersections\n",
    "intersections = []\n",
    "for i in range(0, len(streets)):\n",
    "    row1 = streets.iloc[i]\n",
    "    geo1 = row1['geometry']\n",
    "    name1 = row1['name']\n",
    "    boro1 = row1['boro']\n",
    "    for j in range(i + 1, len(streets)):\n",
    "        row2 = streets.iloc[j]\n",
    "        geo2 = row2['geometry']\n",
    "        if geo1.intersects(geo2):\n",
    "            name2 = row2['name']\n",
    "            boro2 = row2['boro']\n",
    "            inter = geo1.intersection(geo2)\n",
    "            inter_dict1 = {\n",
    "                'street_1': name1,\n",
    "                'street_2': name2,\n",
    "                'boro_1': boro1,\n",
    "                'boro_2': boro2,\n",
    "                'geometry': inter\n",
    "            }\n",
    "            inter_dict2 = {\n",
    "                'street_1': name2,\n",
    "                'street_2': name1,\n",
    "                'boro_1': boro2,\n",
    "                'boro_2': boro1,\n",
    "                'geometry': inter\n",
    "            }\n",
    "            intersections.append(inter_dict1)\n",
    "            intersections.append(inter_dict2)\n"
   ]
  },
  {
   "cell_type": "code",
   "execution_count": 5,
   "metadata": {},
   "outputs": [],
   "source": [
    "inter_geos = gpd.GeoDataFrame(intersections)"
   ]
  },
  {
   "cell_type": "code",
   "execution_count": 6,
   "metadata": {},
   "outputs": [
    {
     "data": {
      "text/html": [
       "<div>\n",
       "<style scoped>\n",
       "    .dataframe tbody tr th:only-of-type {\n",
       "        vertical-align: middle;\n",
       "    }\n",
       "\n",
       "    .dataframe tbody tr th {\n",
       "        vertical-align: top;\n",
       "    }\n",
       "\n",
       "    .dataframe thead th {\n",
       "        text-align: right;\n",
       "    }\n",
       "</style>\n",
       "<table border=\"1\" class=\"dataframe\">\n",
       "  <thead>\n",
       "    <tr style=\"text-align: right;\">\n",
       "      <th></th>\n",
       "      <th>street_1</th>\n",
       "      <th>street_2</th>\n",
       "      <th>boro_1</th>\n",
       "      <th>boro_2</th>\n",
       "      <th>geometry</th>\n",
       "    </tr>\n",
       "  </thead>\n",
       "  <tbody>\n",
       "    <tr>\n",
       "      <th>0</th>\n",
       "      <td>100 avenue</td>\n",
       "      <td>100 drive</td>\n",
       "      <td>queens</td>\n",
       "      <td>queens</td>\n",
       "      <td>POINT (-73.73408 40.71508)</td>\n",
       "    </tr>\n",
       "    <tr>\n",
       "      <th>1</th>\n",
       "      <td>100 drive</td>\n",
       "      <td>100 avenue</td>\n",
       "      <td>queens</td>\n",
       "      <td>queens</td>\n",
       "      <td>POINT (-73.73408 40.71508)</td>\n",
       "    </tr>\n",
       "    <tr>\n",
       "      <th>2</th>\n",
       "      <td>100 avenue</td>\n",
       "      <td>193 street</td>\n",
       "      <td>queens</td>\n",
       "      <td>queens</td>\n",
       "      <td>POINT (-73.76575 40.70904)</td>\n",
       "    </tr>\n",
       "    <tr>\n",
       "      <th>3</th>\n",
       "      <td>193 street</td>\n",
       "      <td>100 avenue</td>\n",
       "      <td>queens</td>\n",
       "      <td>queens</td>\n",
       "      <td>POINT (-73.76575 40.70904)</td>\n",
       "    </tr>\n",
       "    <tr>\n",
       "      <th>4</th>\n",
       "      <td>100 avenue</td>\n",
       "      <td>194 street</td>\n",
       "      <td>queens</td>\n",
       "      <td>queens</td>\n",
       "      <td>POINT (-73.76482 40.70926)</td>\n",
       "    </tr>\n",
       "  </tbody>\n",
       "</table>\n",
       "</div>"
      ],
      "text/plain": [
       "     street_1    street_2  boro_1  boro_2                    geometry\n",
       "0  100 avenue   100 drive  queens  queens  POINT (-73.73408 40.71508)\n",
       "1   100 drive  100 avenue  queens  queens  POINT (-73.73408 40.71508)\n",
       "2  100 avenue  193 street  queens  queens  POINT (-73.76575 40.70904)\n",
       "3  193 street  100 avenue  queens  queens  POINT (-73.76575 40.70904)\n",
       "4  100 avenue  194 street  queens  queens  POINT (-73.76482 40.70926)"
      ]
     },
     "execution_count": 6,
     "metadata": {},
     "output_type": "execute_result"
    }
   ],
   "source": [
    "inter_geos.head()"
   ]
  },
  {
   "cell_type": "code",
   "execution_count": 7,
   "metadata": {},
   "outputs": [
    {
     "name": "stdout",
     "output_type": "stream",
     "text": [
      "<class 'geopandas.geodataframe.GeoDataFrame'>\n",
      "RangeIndex: 90246 entries, 0 to 90245\n",
      "Data columns (total 5 columns):\n",
      " #   Column    Non-Null Count  Dtype   \n",
      "---  ------    --------------  -----   \n",
      " 0   street_1  90246 non-null  object  \n",
      " 1   street_2  90246 non-null  object  \n",
      " 2   boro_1    90246 non-null  object  \n",
      " 3   boro_2    90246 non-null  object  \n",
      " 4   geometry  90246 non-null  geometry\n",
      "dtypes: geometry(1), object(4)\n",
      "memory usage: 3.4+ MB\n"
     ]
    }
   ],
   "source": [
    "inter_geos.info()"
   ]
  },
  {
   "cell_type": "code",
   "execution_count": 8,
   "metadata": {},
   "outputs": [],
   "source": [
    "inter_geos.to_file('../data/intersections.geojson', driver='GeoJSON')"
   ]
  }
 ],
 "metadata": {
  "interpreter": {
   "hash": "dd527bd4d3b651047994c597e1ec3692baa832bfd0d87b2b2957688b5d65bc7a"
  },
  "kernelspec": {
   "display_name": "Python 3.10.1 ('geo_env')",
   "language": "python",
   "name": "python3"
  },
  "language_info": {
   "codemirror_mode": {
    "name": "ipython",
    "version": 3
   },
   "file_extension": ".py",
   "mimetype": "text/x-python",
   "name": "python",
   "nbconvert_exporter": "python",
   "pygments_lexer": "ipython3",
   "version": "3.10.1"
  },
  "orig_nbformat": 4
 },
 "nbformat": 4,
 "nbformat_minor": 2
}
