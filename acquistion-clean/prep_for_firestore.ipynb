{
 "cells": [
  {
   "cell_type": "code",
   "execution_count": 1,
   "metadata": {},
   "outputs": [],
   "source": [
    "import geopandas as gpd"
   ]
  },
  {
   "cell_type": "code",
   "execution_count": 2,
   "metadata": {},
   "outputs": [],
   "source": [
    "sections = gpd.read_file('../data/geo_permits.geojson')"
   ]
  },
  {
   "cell_type": "code",
   "execution_count": 3,
   "metadata": {},
   "outputs": [],
   "source": [
    "start = sections.groupby('eventid')['startdate'].first().reset_index()\n",
    "end = sections.groupby('eventid')['enddate'].first().reset_index()\n",
    "boro = sections.groupby('eventid')['boro'].first().reset_index()\n",
    "category = sections.groupby('eventid')['category'].first().reset_index()\n",
    "subcat = sections.groupby('eventid')['subcategory'].first().reset_index()\n",
    "country = sections.groupby('eventid')['country'].first().reset_index()\n",
    "parking = sections.groupby('eventid')['parkingheld'].apply(list).reset_index()\n"
   ]
  },
  {
   "cell_type": "code",
   "execution_count": 4,
   "metadata": {},
   "outputs": [],
   "source": [
    "events = sections.dissolve('eventid').reset_index()[['eventid', 'geometry']]"
   ]
  },
  {
   "cell_type": "code",
   "execution_count": 5,
   "metadata": {},
   "outputs": [],
   "source": [
    "events = events.merge(start, on='eventid', how='left')\n",
    "events = events.merge(end, on='eventid', how='left')\n",
    "events = events.merge(boro, on='eventid', how='left')\n",
    "events = events.merge(category, on='eventid', how='left')\n",
    "events = events.merge(subcat, on='eventid', how='left')\n",
    "events = events.merge(country, on='eventid', how='left')\n",
    "events = events.merge(parking, on='eventid', how='left')"
   ]
  },
  {
   "cell_type": "code",
   "execution_count": 6,
   "metadata": {},
   "outputs": [],
   "source": [
    "events['parkingheld'] = events['parkingheld'].map(lambda x: ', '.join(x))"
   ]
  },
  {
   "cell_type": "code",
   "execution_count": 7,
   "metadata": {},
   "outputs": [],
   "source": [
    "events.to_file('../data/firestore_permits.geojson', driver='GeoJSON')"
   ]
  },
  {
   "cell_type": "code",
   "execution_count": null,
   "metadata": {},
   "outputs": [],
   "source": []
  }
 ],
 "metadata": {
  "interpreter": {
   "hash": "dd527bd4d3b651047994c597e1ec3692baa832bfd0d87b2b2957688b5d65bc7a"
  },
  "kernelspec": {
   "display_name": "geo_env",
   "language": "python",
   "name": "geo_env"
  },
  "language_info": {
   "codemirror_mode": {
    "name": "ipython",
    "version": 3
   },
   "file_extension": ".py",
   "mimetype": "text/x-python",
   "name": "python",
   "nbconvert_exporter": "python",
   "pygments_lexer": "ipython3",
   "version": "3.10.1"
  },
  "orig_nbformat": 4
 },
 "nbformat": 4,
 "nbformat_minor": 2
}
