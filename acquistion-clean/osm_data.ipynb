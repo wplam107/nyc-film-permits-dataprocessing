{
 "cells": [
  {
   "cell_type": "code",
   "execution_count": 1,
   "metadata": {},
   "outputs": [],
   "source": [
    "import numpy as np\n",
    "import pandas as pd\n",
    "import geopandas as gpd"
   ]
  },
  {
   "cell_type": "code",
   "execution_count": 23,
   "metadata": {},
   "outputs": [],
   "source": [
    "# File from http://download.geofabrik.de/north-america/us/new-york.html\n",
    "df = gpd.read_file('../data/osm/gis_osm_roads_free_1.shp')"
   ]
  },
  {
   "cell_type": "code",
   "execution_count": 24,
   "metadata": {},
   "outputs": [
    {
     "name": "stdout",
     "output_type": "stream",
     "text": [
      "<class 'geopandas.geodataframe.GeoDataFrame'>\n",
      "RangeIndex: 1266805 entries, 0 to 1266804\n",
      "Data columns (total 11 columns):\n",
      " #   Column    Non-Null Count    Dtype   \n",
      "---  ------    --------------    -----   \n",
      " 0   osm_id    1266805 non-null  object  \n",
      " 1   code      1266805 non-null  int64   \n",
      " 2   fclass    1266805 non-null  object  \n",
      " 3   name      391991 non-null   object  \n",
      " 4   ref       54642 non-null    object  \n",
      " 5   oneway    1266805 non-null  object  \n",
      " 6   maxspeed  1266805 non-null  int64   \n",
      " 7   layer     1266805 non-null  int64   \n",
      " 8   bridge    1266805 non-null  object  \n",
      " 9   tunnel    1266805 non-null  object  \n",
      " 10  geometry  1266805 non-null  geometry\n",
      "dtypes: geometry(1), int64(3), object(7)\n",
      "memory usage: 106.3+ MB\n"
     ]
    }
   ],
   "source": [
    "df.info()"
   ]
  },
  {
   "cell_type": "code",
   "execution_count": 25,
   "metadata": {},
   "outputs": [],
   "source": [
    "# Remove unnecessary columns\n",
    "df = df[['name', 'code', 'geometry']]"
   ]
  },
  {
   "cell_type": "code",
   "execution_count": 26,
   "metadata": {},
   "outputs": [
    {
     "data": {
      "text/html": [
       "<div>\n",
       "<style scoped>\n",
       "    .dataframe tbody tr th:only-of-type {\n",
       "        vertical-align: middle;\n",
       "    }\n",
       "\n",
       "    .dataframe tbody tr th {\n",
       "        vertical-align: top;\n",
       "    }\n",
       "\n",
       "    .dataframe thead th {\n",
       "        text-align: right;\n",
       "    }\n",
       "</style>\n",
       "<table border=\"1\" class=\"dataframe\">\n",
       "  <thead>\n",
       "    <tr style=\"text-align: right;\">\n",
       "      <th></th>\n",
       "      <th>name</th>\n",
       "      <th>code</th>\n",
       "      <th>geometry</th>\n",
       "    </tr>\n",
       "  </thead>\n",
       "  <tbody>\n",
       "    <tr>\n",
       "      <th>0</th>\n",
       "      <td>None</td>\n",
       "      <td>5131</td>\n",
       "      <td>LINESTRING (-78.76634 42.95415, -78.76623 42.9...</td>\n",
       "    </tr>\n",
       "    <tr>\n",
       "      <th>1</th>\n",
       "      <td>Niagara Expressway</td>\n",
       "      <td>5111</td>\n",
       "      <td>LINESTRING (-79.03437 43.15172, -79.03391 43.1...</td>\n",
       "    </tr>\n",
       "    <tr>\n",
       "      <th>2</th>\n",
       "      <td>South Grand Island Bridge</td>\n",
       "      <td>5111</td>\n",
       "      <td>LINESTRING (-78.94184 43.00122, -78.94136 43.0...</td>\n",
       "    </tr>\n",
       "  </tbody>\n",
       "</table>\n",
       "</div>"
      ],
      "text/plain": [
       "                        name  code  \\\n",
       "0                       None  5131   \n",
       "1         Niagara Expressway  5111   \n",
       "2  South Grand Island Bridge  5111   \n",
       "\n",
       "                                            geometry  \n",
       "0  LINESTRING (-78.76634 42.95415, -78.76623 42.9...  \n",
       "1  LINESTRING (-79.03437 43.15172, -79.03391 43.1...  \n",
       "2  LINESTRING (-78.94184 43.00122, -78.94136 43.0...  "
      ]
     },
     "execution_count": 26,
     "metadata": {},
     "output_type": "execute_result"
    }
   ],
   "source": [
    "df.head(3)"
   ]
  },
  {
   "cell_type": "code",
   "execution_count": 29,
   "metadata": {},
   "outputs": [],
   "source": [
    "# Only keep car based roads as film permits do not track pedestrian paths\n",
    "df = df.loc[(df['code'] >= 5111) & (df['code'] <= 5125) & (df['code'] != 5124)]\n",
    "\n",
    "# Drop nameless and nonsense name roads\n",
    "df = df.loc[(df['name'].notnull()) & (df['name'] != '-')]\n",
    "\n",
    "# Drop 'code' column\n",
    "df.drop(columns='code', inplace=True)"
   ]
  },
  {
   "cell_type": "code",
   "execution_count": 30,
   "metadata": {},
   "outputs": [
    {
     "name": "stdout",
     "output_type": "stream",
     "text": [
      "<class 'geopandas.geodataframe.GeoDataFrame'>\n",
      "Int64Index: 351305 entries, 1 to 1266771\n",
      "Data columns (total 2 columns):\n",
      " #   Column    Non-Null Count   Dtype   \n",
      "---  ------    --------------   -----   \n",
      " 0   name      351305 non-null  object  \n",
      " 1   geometry  351305 non-null  geometry\n",
      "dtypes: geometry(1), object(1)\n",
      "memory usage: 8.0+ MB\n"
     ]
    }
   ],
   "source": [
    "df.info()"
   ]
  },
  {
   "cell_type": "code",
   "execution_count": 31,
   "metadata": {},
   "outputs": [],
   "source": [
    "# NYC borough boundaries\n",
    "boros = gpd.read_file('./data/nyc/boros.geojson')\n",
    "\n",
    "# NYC MultiPolygon object\n",
    "nyc = boros.dissolve().iloc[0]['geometry']"
   ]
  },
  {
   "cell_type": "code",
   "execution_count": 32,
   "metadata": {},
   "outputs": [],
   "source": [
    "# Determine if object is in NYC\n",
    "df['in_nyc'] = df['geometry'].map(lambda x: nyc.contains(x))"
   ]
  },
  {
   "cell_type": "code",
   "execution_count": 33,
   "metadata": {},
   "outputs": [],
   "source": [
    "# Limit ways to those in NYC\n",
    "df = df.loc[df['in_nyc']]\n",
    "df.drop(columns='in_nyc', inplace=True)"
   ]
  },
  {
   "cell_type": "code",
   "execution_count": 34,
   "metadata": {},
   "outputs": [
    {
     "name": "stdout",
     "output_type": "stream",
     "text": [
      "<class 'geopandas.geodataframe.GeoDataFrame'>\n",
      "Int64Index: 49480 entries, 17 to 1266771\n",
      "Data columns (total 2 columns):\n",
      " #   Column    Non-Null Count  Dtype   \n",
      "---  ------    --------------  -----   \n",
      " 0   name      49480 non-null  object  \n",
      " 1   geometry  49480 non-null  geometry\n",
      "dtypes: geometry(1), object(1)\n",
      "memory usage: 1.1+ MB\n"
     ]
    }
   ],
   "source": [
    "df.info()"
   ]
  },
  {
   "cell_type": "code",
   "execution_count": 35,
   "metadata": {},
   "outputs": [
    {
     "data": {
      "text/html": [
       "<div>\n",
       "<style scoped>\n",
       "    .dataframe tbody tr th:only-of-type {\n",
       "        vertical-align: middle;\n",
       "    }\n",
       "\n",
       "    .dataframe tbody tr th {\n",
       "        vertical-align: top;\n",
       "    }\n",
       "\n",
       "    .dataframe thead th {\n",
       "        text-align: right;\n",
       "    }\n",
       "</style>\n",
       "<table border=\"1\" class=\"dataframe\">\n",
       "  <thead>\n",
       "    <tr style=\"text-align: right;\">\n",
       "      <th></th>\n",
       "      <th>boro_code</th>\n",
       "      <th>boro_name</th>\n",
       "      <th>shape_area</th>\n",
       "      <th>shape_leng</th>\n",
       "      <th>geometry</th>\n",
       "    </tr>\n",
       "  </thead>\n",
       "  <tbody>\n",
       "    <tr>\n",
       "      <th>0</th>\n",
       "      <td>4</td>\n",
       "      <td>Queens</td>\n",
       "      <td>3040205594.95</td>\n",
       "      <td>900269.280485</td>\n",
       "      <td>MULTIPOLYGON (((-73.82645 40.59053, -73.82642 ...</td>\n",
       "    </tr>\n",
       "    <tr>\n",
       "      <th>1</th>\n",
       "      <td>3</td>\n",
       "      <td>Brooklyn</td>\n",
       "      <td>1934167333.21</td>\n",
       "      <td>728477.954082</td>\n",
       "      <td>MULTIPOLYGON (((-73.86327 40.58388, -73.86381 ...</td>\n",
       "    </tr>\n",
       "    <tr>\n",
       "      <th>2</th>\n",
       "      <td>5</td>\n",
       "      <td>Staten Island</td>\n",
       "      <td>1623631283.36</td>\n",
       "      <td>325924.002076</td>\n",
       "      <td>MULTIPOLYGON (((-74.05051 40.56642, -74.05047 ...</td>\n",
       "    </tr>\n",
       "    <tr>\n",
       "      <th>3</th>\n",
       "      <td>1</td>\n",
       "      <td>Manhattan</td>\n",
       "      <td>636620785.519</td>\n",
       "      <td>359993.126318</td>\n",
       "      <td>MULTIPOLYGON (((-74.01093 40.68449, -74.01193 ...</td>\n",
       "    </tr>\n",
       "    <tr>\n",
       "      <th>4</th>\n",
       "      <td>2</td>\n",
       "      <td>Bronx</td>\n",
       "      <td>1187193588.79</td>\n",
       "      <td>463868.599917</td>\n",
       "      <td>MULTIPOLYGON (((-73.89681 40.79581, -73.89694 ...</td>\n",
       "    </tr>\n",
       "  </tbody>\n",
       "</table>\n",
       "</div>"
      ],
      "text/plain": [
       "  boro_code      boro_name     shape_area     shape_leng  \\\n",
       "0         4         Queens  3040205594.95  900269.280485   \n",
       "1         3       Brooklyn  1934167333.21  728477.954082   \n",
       "2         5  Staten Island  1623631283.36  325924.002076   \n",
       "3         1      Manhattan  636620785.519  359993.126318   \n",
       "4         2          Bronx  1187193588.79  463868.599917   \n",
       "\n",
       "                                            geometry  \n",
       "0  MULTIPOLYGON (((-73.82645 40.59053, -73.82642 ...  \n",
       "1  MULTIPOLYGON (((-73.86327 40.58388, -73.86381 ...  \n",
       "2  MULTIPOLYGON (((-74.05051 40.56642, -74.05047 ...  \n",
       "3  MULTIPOLYGON (((-74.01093 40.68449, -74.01193 ...  \n",
       "4  MULTIPOLYGON (((-73.89681 40.79581, -73.89694 ...  "
      ]
     },
     "execution_count": 35,
     "metadata": {},
     "output_type": "execute_result"
    }
   ],
   "source": [
    "boros"
   ]
  },
  {
   "cell_type": "code",
   "execution_count": 36,
   "metadata": {},
   "outputs": [],
   "source": [
    "qns = boros.iloc[0]['geometry']\n",
    "bk = boros.iloc[1]['geometry']\n",
    "si = boros.iloc[2]['geometry']\n",
    "mtn = boros.iloc[3]['geometry']\n",
    "bx = boros.iloc[4]['geometry']"
   ]
  },
  {
   "cell_type": "code",
   "execution_count": 37,
   "metadata": {},
   "outputs": [],
   "source": [
    "# Determine if ways are in a particular boro\n",
    "df['queens'] = df['geometry'].map(lambda x: qns.contains(x))\n",
    "df['brooklyn'] = df['geometry'].map(lambda x: bk.contains(x))\n",
    "df['staten_island'] = df['geometry'].map(lambda x: si.contains(x))\n",
    "df['manhattan'] = df['geometry'].map(lambda x: mtn.contains(x))\n",
    "df['bronx'] = df['geometry'].map(lambda x: bx.contains(x))"
   ]
  },
  {
   "cell_type": "code",
   "execution_count": 38,
   "metadata": {},
   "outputs": [
    {
     "data": {
      "text/plain": [
       "1    49374\n",
       "0      106\n",
       "dtype: int64"
      ]
     },
     "execution_count": 38,
     "metadata": {},
     "output_type": "execute_result"
    }
   ],
   "source": [
    "# Determine if a way can be contained in multiple boros (answer: no)\n",
    "df[['queens', 'brooklyn', 'staten_island', 'manhattan', 'bronx']].sum(axis=1).value_counts()"
   ]
  },
  {
   "cell_type": "code",
   "execution_count": 39,
   "metadata": {},
   "outputs": [],
   "source": [
    "def get_boro(row: pd.Series) -> str | None:\n",
    "    if row['queens']:\n",
    "        return 'queens'\n",
    "    if row['brooklyn']:\n",
    "        return 'brooklyn'\n",
    "    if row['staten_island']:\n",
    "        return 'staten island'\n",
    "    if row['manhattan']:\n",
    "        return 'manhattan'\n",
    "    if row['bronx']:\n",
    "        return 'bronx'\n",
    "    return None"
   ]
  },
  {
   "cell_type": "code",
   "execution_count": 40,
   "metadata": {},
   "outputs": [],
   "source": [
    "df['boro'] = df.apply(lambda row: get_boro(row), axis=1)\n",
    "df.drop(columns=['queens', 'brooklyn', 'staten_island', 'manhattan', 'bronx'], inplace=True)"
   ]
  },
  {
   "cell_type": "code",
   "execution_count": 41,
   "metadata": {},
   "outputs": [
    {
     "data": {
      "text/html": [
       "<div>\n",
       "<style scoped>\n",
       "    .dataframe tbody tr th:only-of-type {\n",
       "        vertical-align: middle;\n",
       "    }\n",
       "\n",
       "    .dataframe tbody tr th {\n",
       "        vertical-align: top;\n",
       "    }\n",
       "\n",
       "    .dataframe thead th {\n",
       "        text-align: right;\n",
       "    }\n",
       "</style>\n",
       "<table border=\"1\" class=\"dataframe\">\n",
       "  <thead>\n",
       "    <tr style=\"text-align: right;\">\n",
       "      <th></th>\n",
       "      <th>name</th>\n",
       "      <th>geometry</th>\n",
       "      <th>boro</th>\n",
       "    </tr>\n",
       "  </thead>\n",
       "  <tbody>\n",
       "    <tr>\n",
       "      <th>17</th>\n",
       "      <td>Boerum Place</td>\n",
       "      <td>LINESTRING (-73.98923 40.69098, -73.98919 40.6...</td>\n",
       "      <td>brooklyn</td>\n",
       "    </tr>\n",
       "    <tr>\n",
       "      <th>22546</th>\n",
       "      <td>West 106th Street</td>\n",
       "      <td>LINESTRING (-73.96042 40.79821, -73.96071 40.7...</td>\n",
       "      <td>manhattan</td>\n",
       "    </tr>\n",
       "    <tr>\n",
       "      <th>22547</th>\n",
       "      <td>West 80th Street</td>\n",
       "      <td>LINESTRING (-73.98200 40.78559, -73.98080 40.7...</td>\n",
       "      <td>manhattan</td>\n",
       "    </tr>\n",
       "  </tbody>\n",
       "</table>\n",
       "</div>"
      ],
      "text/plain": [
       "                    name                                           geometry  \\\n",
       "17          Boerum Place  LINESTRING (-73.98923 40.69098, -73.98919 40.6...   \n",
       "22546  West 106th Street  LINESTRING (-73.96042 40.79821, -73.96071 40.7...   \n",
       "22547   West 80th Street  LINESTRING (-73.98200 40.78559, -73.98080 40.7...   \n",
       "\n",
       "            boro  \n",
       "17      brooklyn  \n",
       "22546  manhattan  \n",
       "22547  manhattan  "
      ]
     },
     "execution_count": 41,
     "metadata": {},
     "output_type": "execute_result"
    }
   ],
   "source": [
    "df.head(3)"
   ]
  },
  {
   "cell_type": "code",
   "execution_count": 42,
   "metadata": {},
   "outputs": [],
   "source": [
    "# Lowercase all names\n",
    "df['name'] = df['name'].map(lambda x: x.lower())"
   ]
  },
  {
   "cell_type": "code",
   "execution_count": 43,
   "metadata": {},
   "outputs": [
    {
     "data": {
      "text/html": [
       "<div>\n",
       "<style scoped>\n",
       "    .dataframe tbody tr th:only-of-type {\n",
       "        vertical-align: middle;\n",
       "    }\n",
       "\n",
       "    .dataframe tbody tr th {\n",
       "        vertical-align: top;\n",
       "    }\n",
       "\n",
       "    .dataframe thead th {\n",
       "        text-align: right;\n",
       "    }\n",
       "</style>\n",
       "<table border=\"1\" class=\"dataframe\">\n",
       "  <thead>\n",
       "    <tr style=\"text-align: right;\">\n",
       "      <th></th>\n",
       "      <th>name</th>\n",
       "      <th>geometry</th>\n",
       "      <th>boro</th>\n",
       "    </tr>\n",
       "  </thead>\n",
       "  <tbody>\n",
       "    <tr>\n",
       "      <th>17</th>\n",
       "      <td>boerum place</td>\n",
       "      <td>LINESTRING (-73.98923 40.69098, -73.98919 40.6...</td>\n",
       "      <td>brooklyn</td>\n",
       "    </tr>\n",
       "    <tr>\n",
       "      <th>22546</th>\n",
       "      <td>west 106th street</td>\n",
       "      <td>LINESTRING (-73.96042 40.79821, -73.96071 40.7...</td>\n",
       "      <td>manhattan</td>\n",
       "    </tr>\n",
       "    <tr>\n",
       "      <th>22547</th>\n",
       "      <td>west 80th street</td>\n",
       "      <td>LINESTRING (-73.98200 40.78559, -73.98080 40.7...</td>\n",
       "      <td>manhattan</td>\n",
       "    </tr>\n",
       "  </tbody>\n",
       "</table>\n",
       "</div>"
      ],
      "text/plain": [
       "                    name                                           geometry  \\\n",
       "17          boerum place  LINESTRING (-73.98923 40.69098, -73.98919 40.6...   \n",
       "22546  west 106th street  LINESTRING (-73.96042 40.79821, -73.96071 40.7...   \n",
       "22547   west 80th street  LINESTRING (-73.98200 40.78559, -73.98080 40.7...   \n",
       "\n",
       "            boro  \n",
       "17      brooklyn  \n",
       "22546  manhattan  \n",
       "22547  manhattan  "
      ]
     },
     "execution_count": 43,
     "metadata": {},
     "output_type": "execute_result"
    }
   ],
   "source": [
    "df.head(3)"
   ]
  },
  {
   "cell_type": "code",
   "execution_count": 45,
   "metadata": {},
   "outputs": [],
   "source": [
    "# Merge streets within a boro with the same name\n",
    "df = df.dissolve(['name', 'boro']).reset_index()"
   ]
  },
  {
   "cell_type": "code",
   "execution_count": 46,
   "metadata": {},
   "outputs": [
    {
     "name": "stdout",
     "output_type": "stream",
     "text": [
      "<class 'geopandas.geodataframe.GeoDataFrame'>\n",
      "RangeIndex: 9436 entries, 0 to 9435\n",
      "Data columns (total 3 columns):\n",
      " #   Column    Non-Null Count  Dtype   \n",
      "---  ------    --------------  -----   \n",
      " 0   name      9436 non-null   object  \n",
      " 1   boro      9436 non-null   object  \n",
      " 2   geometry  9436 non-null   geometry\n",
      "dtypes: geometry(1), object(2)\n",
      "memory usage: 221.3+ KB\n"
     ]
    }
   ],
   "source": [
    "df.info()"
   ]
  },
  {
   "cell_type": "code",
   "execution_count": 47,
   "metadata": {},
   "outputs": [],
   "source": [
    "# Write to GeoJSON\n",
    "df.to_file('../data/nyc_osm.geojson', driver='GeoJSON')"
   ]
  },
  {
   "cell_type": "code",
   "execution_count": null,
   "metadata": {},
   "outputs": [],
   "source": []
  }
 ],
 "metadata": {
  "interpreter": {
   "hash": "dd527bd4d3b651047994c597e1ec3692baa832bfd0d87b2b2957688b5d65bc7a"
  },
  "kernelspec": {
   "display_name": "Python 3.10.1 ('geo_env')",
   "language": "python",
   "name": "python3"
  },
  "language_info": {
   "codemirror_mode": {
    "name": "ipython",
    "version": 3
   },
   "file_extension": ".py",
   "mimetype": "text/x-python",
   "name": "python",
   "nbconvert_exporter": "python",
   "pygments_lexer": "ipython3",
   "version": "3.10.1"
  },
  "orig_nbformat": 4
 },
 "nbformat": 4,
 "nbformat_minor": 2
}
