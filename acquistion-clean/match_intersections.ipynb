{
 "cells": [
  {
   "cell_type": "code",
   "execution_count": 1,
   "metadata": {},
   "outputs": [],
   "source": [
    "import pandas as pd\n",
    "import geopandas as gpd\n",
    "\n",
    "pd.set_option('display.max_columns', None)"
   ]
  },
  {
   "cell_type": "code",
   "execution_count": 2,
   "metadata": {},
   "outputs": [],
   "source": [
    "permits = pd.read_json('../data/permits_clean.json')\n",
    "nyc = gpd.read_file('../data/intersections.geojson')"
   ]
  },
  {
   "cell_type": "code",
   "execution_count": 3,
   "metadata": {},
   "outputs": [
    {
     "data": {
      "text/html": [
       "<div>\n",
       "<style scoped>\n",
       "    .dataframe tbody tr th:only-of-type {\n",
       "        vertical-align: middle;\n",
       "    }\n",
       "\n",
       "    .dataframe tbody tr th {\n",
       "        vertical-align: top;\n",
       "    }\n",
       "\n",
       "    .dataframe thead th {\n",
       "        text-align: right;\n",
       "    }\n",
       "</style>\n",
       "<table border=\"1\" class=\"dataframe\">\n",
       "  <thead>\n",
       "    <tr style=\"text-align: right;\">\n",
       "      <th></th>\n",
       "      <th>eventid</th>\n",
       "      <th>startdate</th>\n",
       "      <th>enddate</th>\n",
       "      <th>entered</th>\n",
       "      <th>boro</th>\n",
       "      <th>category</th>\n",
       "      <th>subcategory</th>\n",
       "      <th>country</th>\n",
       "      <th>zipcode</th>\n",
       "      <th>parkingheld</th>\n",
       "      <th>m_street</th>\n",
       "      <th>c1_street</th>\n",
       "      <th>c2_street</th>\n",
       "      <th>m_front_card</th>\n",
       "      <th>m_middle_card</th>\n",
       "      <th>m_back_card</th>\n",
       "      <th>c1_front_card</th>\n",
       "      <th>c1_middle_card</th>\n",
       "      <th>c1_back_card</th>\n",
       "      <th>c2_front_card</th>\n",
       "      <th>c2_middle_card</th>\n",
       "      <th>c2_back_card</th>\n",
       "      <th>m_st_num</th>\n",
       "      <th>m_way_type</th>\n",
       "      <th>m_way_name</th>\n",
       "      <th>c1_st_num</th>\n",
       "      <th>c1_way_type</th>\n",
       "      <th>c1_way_name</th>\n",
       "      <th>c2_st_num</th>\n",
       "      <th>c2_way_type</th>\n",
       "      <th>c2_way_name</th>\n",
       "      <th>bronx</th>\n",
       "      <th>brooklyn</th>\n",
       "      <th>manhattan</th>\n",
       "      <th>queens</th>\n",
       "      <th>staten_island</th>\n",
       "    </tr>\n",
       "  </thead>\n",
       "  <tbody>\n",
       "    <tr>\n",
       "      <th>0</th>\n",
       "      <td>623629</td>\n",
       "      <td>2022-02-02</td>\n",
       "      <td>2022-02-03</td>\n",
       "      <td>2022-01-28</td>\n",
       "      <td>manhattan</td>\n",
       "      <td>Television</td>\n",
       "      <td>Episodic series</td>\n",
       "      <td>United States of America</td>\n",
       "      <td>[10010, 10011, 10012, 10013]</td>\n",
       "      <td>prince street between bowery and lafayette street</td>\n",
       "      <td>prince street</td>\n",
       "      <td>bowery</td>\n",
       "      <td>lafayette street</td>\n",
       "      <td>None</td>\n",
       "      <td>None</td>\n",
       "      <td>None</td>\n",
       "      <td>None</td>\n",
       "      <td>None</td>\n",
       "      <td>None</td>\n",
       "      <td>None</td>\n",
       "      <td>None</td>\n",
       "      <td>None</td>\n",
       "      <td>NaN</td>\n",
       "      <td>street</td>\n",
       "      <td>prince</td>\n",
       "      <td>NaN</td>\n",
       "      <td>None</td>\n",
       "      <td>bowery</td>\n",
       "      <td>NaN</td>\n",
       "      <td>street</td>\n",
       "      <td>lafayette</td>\n",
       "      <td>False</td>\n",
       "      <td>False</td>\n",
       "      <td>True</td>\n",
       "      <td>False</td>\n",
       "      <td>False</td>\n",
       "    </tr>\n",
       "    <tr>\n",
       "      <th>1</th>\n",
       "      <td>623629</td>\n",
       "      <td>2022-02-02</td>\n",
       "      <td>2022-02-03</td>\n",
       "      <td>2022-01-28</td>\n",
       "      <td>manhattan</td>\n",
       "      <td>Television</td>\n",
       "      <td>Episodic series</td>\n",
       "      <td>United States of America</td>\n",
       "      <td>[10010, 10011, 10012, 10013]</td>\n",
       "      <td>mott street between east houston street and pr...</td>\n",
       "      <td>mott street</td>\n",
       "      <td>east houston street</td>\n",
       "      <td>prince street</td>\n",
       "      <td>None</td>\n",
       "      <td>None</td>\n",
       "      <td>None</td>\n",
       "      <td>east</td>\n",
       "      <td>None</td>\n",
       "      <td>None</td>\n",
       "      <td>None</td>\n",
       "      <td>None</td>\n",
       "      <td>None</td>\n",
       "      <td>NaN</td>\n",
       "      <td>street</td>\n",
       "      <td>mott</td>\n",
       "      <td>NaN</td>\n",
       "      <td>street</td>\n",
       "      <td>houston</td>\n",
       "      <td>NaN</td>\n",
       "      <td>street</td>\n",
       "      <td>prince</td>\n",
       "      <td>False</td>\n",
       "      <td>False</td>\n",
       "      <td>True</td>\n",
       "      <td>False</td>\n",
       "      <td>False</td>\n",
       "    </tr>\n",
       "    <tr>\n",
       "      <th>2</th>\n",
       "      <td>623629</td>\n",
       "      <td>2022-02-02</td>\n",
       "      <td>2022-02-03</td>\n",
       "      <td>2022-01-28</td>\n",
       "      <td>manhattan</td>\n",
       "      <td>Television</td>\n",
       "      <td>Episodic series</td>\n",
       "      <td>United States of America</td>\n",
       "      <td>[10010, 10011, 10012, 10013]</td>\n",
       "      <td>mulberry street between east houston street an...</td>\n",
       "      <td>mulberry street</td>\n",
       "      <td>east houston street</td>\n",
       "      <td>prince street</td>\n",
       "      <td>None</td>\n",
       "      <td>None</td>\n",
       "      <td>None</td>\n",
       "      <td>east</td>\n",
       "      <td>None</td>\n",
       "      <td>None</td>\n",
       "      <td>None</td>\n",
       "      <td>None</td>\n",
       "      <td>None</td>\n",
       "      <td>NaN</td>\n",
       "      <td>street</td>\n",
       "      <td>mulberry</td>\n",
       "      <td>NaN</td>\n",
       "      <td>street</td>\n",
       "      <td>houston</td>\n",
       "      <td>NaN</td>\n",
       "      <td>street</td>\n",
       "      <td>prince</td>\n",
       "      <td>False</td>\n",
       "      <td>False</td>\n",
       "      <td>True</td>\n",
       "      <td>False</td>\n",
       "      <td>False</td>\n",
       "    </tr>\n",
       "  </tbody>\n",
       "</table>\n",
       "</div>"
      ],
      "text/plain": [
       "   eventid   startdate     enddate     entered       boro    category  \\\n",
       "0   623629  2022-02-02  2022-02-03  2022-01-28  manhattan  Television   \n",
       "1   623629  2022-02-02  2022-02-03  2022-01-28  manhattan  Television   \n",
       "2   623629  2022-02-02  2022-02-03  2022-01-28  manhattan  Television   \n",
       "\n",
       "       subcategory                   country                       zipcode  \\\n",
       "0  Episodic series  United States of America  [10010, 10011, 10012, 10013]   \n",
       "1  Episodic series  United States of America  [10010, 10011, 10012, 10013]   \n",
       "2  Episodic series  United States of America  [10010, 10011, 10012, 10013]   \n",
       "\n",
       "                                         parkingheld         m_street  \\\n",
       "0  prince street between bowery and lafayette street    prince street   \n",
       "1  mott street between east houston street and pr...      mott street   \n",
       "2  mulberry street between east houston street an...  mulberry street   \n",
       "\n",
       "             c1_street         c2_street m_front_card m_middle_card  \\\n",
       "0               bowery  lafayette street         None          None   \n",
       "1  east houston street     prince street         None          None   \n",
       "2  east houston street     prince street         None          None   \n",
       "\n",
       "  m_back_card c1_front_card c1_middle_card c1_back_card c2_front_card  \\\n",
       "0        None          None           None         None          None   \n",
       "1        None          east           None         None          None   \n",
       "2        None          east           None         None          None   \n",
       "\n",
       "  c2_middle_card c2_back_card  m_st_num m_way_type m_way_name  c1_st_num  \\\n",
       "0           None         None       NaN     street     prince        NaN   \n",
       "1           None         None       NaN     street       mott        NaN   \n",
       "2           None         None       NaN     street   mulberry        NaN   \n",
       "\n",
       "  c1_way_type c1_way_name  c2_st_num c2_way_type c2_way_name  bronx  brooklyn  \\\n",
       "0        None      bowery        NaN      street   lafayette  False     False   \n",
       "1      street     houston        NaN      street      prince  False     False   \n",
       "2      street     houston        NaN      street      prince  False     False   \n",
       "\n",
       "   manhattan  queens  staten_island  \n",
       "0       True   False          False  \n",
       "1       True   False          False  \n",
       "2       True   False          False  "
      ]
     },
     "execution_count": 3,
     "metadata": {},
     "output_type": "execute_result"
    }
   ],
   "source": [
    "permits.head(3)"
   ]
  },
  {
   "cell_type": "code",
   "execution_count": 4,
   "metadata": {},
   "outputs": [
    {
     "data": {
      "text/html": [
       "<div>\n",
       "<style scoped>\n",
       "    .dataframe tbody tr th:only-of-type {\n",
       "        vertical-align: middle;\n",
       "    }\n",
       "\n",
       "    .dataframe tbody tr th {\n",
       "        vertical-align: top;\n",
       "    }\n",
       "\n",
       "    .dataframe thead th {\n",
       "        text-align: right;\n",
       "    }\n",
       "</style>\n",
       "<table border=\"1\" class=\"dataframe\">\n",
       "  <thead>\n",
       "    <tr style=\"text-align: right;\">\n",
       "      <th></th>\n",
       "      <th>street_1</th>\n",
       "      <th>street_2</th>\n",
       "      <th>boro_1</th>\n",
       "      <th>boro_2</th>\n",
       "      <th>geometry</th>\n",
       "    </tr>\n",
       "  </thead>\n",
       "  <tbody>\n",
       "    <tr>\n",
       "      <th>0</th>\n",
       "      <td>100 avenue</td>\n",
       "      <td>100 drive</td>\n",
       "      <td>queens</td>\n",
       "      <td>queens</td>\n",
       "      <td>POINT (-73.73408 40.71508)</td>\n",
       "    </tr>\n",
       "    <tr>\n",
       "      <th>1</th>\n",
       "      <td>100 drive</td>\n",
       "      <td>100 avenue</td>\n",
       "      <td>queens</td>\n",
       "      <td>queens</td>\n",
       "      <td>POINT (-73.73408 40.71508)</td>\n",
       "    </tr>\n",
       "    <tr>\n",
       "      <th>2</th>\n",
       "      <td>100 avenue</td>\n",
       "      <td>193 street</td>\n",
       "      <td>queens</td>\n",
       "      <td>queens</td>\n",
       "      <td>POINT (-73.76575 40.70904)</td>\n",
       "    </tr>\n",
       "  </tbody>\n",
       "</table>\n",
       "</div>"
      ],
      "text/plain": [
       "     street_1    street_2  boro_1  boro_2                    geometry\n",
       "0  100 avenue   100 drive  queens  queens  POINT (-73.73408 40.71508)\n",
       "1   100 drive  100 avenue  queens  queens  POINT (-73.73408 40.71508)\n",
       "2  100 avenue  193 street  queens  queens  POINT (-73.76575 40.70904)"
      ]
     },
     "execution_count": 4,
     "metadata": {},
     "output_type": "execute_result"
    }
   ],
   "source": [
    "nyc.head(3)"
   ]
  },
  {
   "cell_type": "code",
   "execution_count": 5,
   "metadata": {},
   "outputs": [],
   "source": [
    "# Minor cleaning of special case\n",
    "permits['m_street'] = permits['m_street'].map(lambda x: '6 avenue' if x == 'ave of the americas' else x)\n",
    "permits['c1_street'] = permits['c1_street'].map(lambda x: '6 avenue' if x == 'ave of the americas' else x)\n",
    "permits['c2_street'] = permits['c2_street'].map(lambda x: '6 avenue' if x == 'ave of the americas' else x)"
   ]
  },
  {
   "cell_type": "code",
   "execution_count": 6,
   "metadata": {},
   "outputs": [
    {
     "data": {
      "text/html": [
       "<div>\n",
       "<style scoped>\n",
       "    .dataframe tbody tr th:only-of-type {\n",
       "        vertical-align: middle;\n",
       "    }\n",
       "\n",
       "    .dataframe tbody tr th {\n",
       "        vertical-align: top;\n",
       "    }\n",
       "\n",
       "    .dataframe thead th {\n",
       "        text-align: right;\n",
       "    }\n",
       "</style>\n",
       "<table border=\"1\" class=\"dataframe\">\n",
       "  <thead>\n",
       "    <tr style=\"text-align: right;\">\n",
       "      <th></th>\n",
       "      <th>street_1</th>\n",
       "      <th>street_2</th>\n",
       "      <th>boro_1</th>\n",
       "      <th>boro_2</th>\n",
       "      <th>geometry</th>\n",
       "      <th>temp</th>\n",
       "    </tr>\n",
       "  </thead>\n",
       "  <tbody>\n",
       "  </tbody>\n",
       "</table>\n",
       "</div>"
      ],
      "text/plain": [
       "Empty GeoDataFrame\n",
       "Columns: [street_1, street_2, boro_1, boro_2, geometry, temp]\n",
       "Index: []"
      ]
     },
     "execution_count": 6,
     "metadata": {},
     "output_type": "execute_result"
    }
   ],
   "source": [
    "# Check if all streets that intersect are within the same borough (answer: True)\n",
    "nyc['temp'] = nyc.apply(lambda x: True if x['boro_1'] == x['boro_2'] else False, axis=1)\n",
    "nyc.loc[nyc['temp'] == False]"
   ]
  },
  {
   "cell_type": "code",
   "execution_count": 7,
   "metadata": {},
   "outputs": [],
   "source": [
    "nyc.drop(columns='temp', inplace=True)\n",
    "nyc['boro'] = nyc['boro_1']\n",
    "nyc.drop(columns=['boro_1', 'boro_2'], inplace=True)"
   ]
  },
  {
   "cell_type": "code",
   "execution_count": 8,
   "metadata": {},
   "outputs": [],
   "source": [
    "intersections = {}\n",
    "for i in range(0, len(nyc)):\n",
    "    street = nyc.iloc[i]['street_1'] + ', ' + nyc.iloc[i]['boro']\n",
    "    if street not in intersections.keys():\n",
    "        intersections[street] = {}\n",
    "    cross = nyc.iloc[i]['street_2'] + ', ' + nyc.iloc[i]['boro']\n",
    "    intersections[street][cross] = nyc.iloc[i]['geometry']"
   ]
  },
  {
   "cell_type": "code",
   "execution_count": 9,
   "metadata": {},
   "outputs": [
    {
     "data": {
      "text/plain": [
       "['100 drive, queens',\n",
       " '193 street, queens',\n",
       " '194 street, queens',\n",
       " '195 street, queens',\n",
       " '196 street, queens']"
      ]
     },
     "execution_count": 9,
     "metadata": {},
     "output_type": "execute_result"
    }
   ],
   "source": [
    "# Example\n",
    "list(intersections['100 avenue, queens'].keys())[:5]"
   ]
  },
  {
   "cell_type": "code",
   "execution_count": 10,
   "metadata": {},
   "outputs": [],
   "source": [
    "def has_inter_match(row: pd.Series, intersections: dict) -> tuple[int]:\n",
    "    m_st = row['m_street']\n",
    "    c1_st = row['c1_street']\n",
    "    c2_st = row['c2_street']\n",
    "    boro = row['boro']\n",
    "\n",
    "    street = m_st + ', ' + boro\n",
    "    cross1 = c1_st + ', ' + boro\n",
    "    cross2 = c2_st + ', ' + boro\n",
    "\n",
    "    inter1 = None\n",
    "    inter2 = None\n",
    "    if street in intersections.keys():\n",
    "        if (cross1 in intersections[street].keys()) and (cross2 in intersections[street].keys()):\n",
    "            inter1 = intersections[street][cross1]\n",
    "            inter2 = intersections[street][cross2]\n",
    "\n",
    "    # Check if streets for parking held are outside of the primary production borough\n",
    "    if inter1 is None:\n",
    "        check_cols = ['bronx', 'brooklyn', 'manhattan', 'queens', 'staten_island']\n",
    "        boros = []\n",
    "        for col in check_cols:\n",
    "            if row[col]:\n",
    "                if col == 'staten_island':\n",
    "                    col = 'staten island'\n",
    "                if col != boro:\n",
    "                    boros.append(col)\n",
    "        for b in boros:\n",
    "            street = m_st + ', ' + b\n",
    "            cross1 = c1_st + ', ' + b\n",
    "            cross2 = c2_st + ', ' + b\n",
    "            if street in intersections.keys():\n",
    "                if (cross1 in intersections[street].keys()) and (cross2 in intersections[street].keys()):\n",
    "                    inter1 = intersections[street][cross1]\n",
    "                    inter2 = intersections[street][cross2]\n",
    "                    boro = b\n",
    "                    break\n",
    "\n",
    "    # Create intersection and streets dictionary\n",
    "    inter_dict = {\n",
    "        'boro': boro,\n",
    "        'inter1': inter1,\n",
    "        'inter2': inter2\n",
    "    }\n",
    "\n",
    "    return inter_dict"
   ]
  },
  {
   "cell_type": "code",
   "execution_count": 11,
   "metadata": {},
   "outputs": [],
   "source": [
    "permits['matches'] = permits.apply(lambda x: has_inter_match(x, intersections), axis=1)"
   ]
  },
  {
   "cell_type": "code",
   "execution_count": 12,
   "metadata": {},
   "outputs": [],
   "source": [
    "permits['inter1'] = permits['matches'].map(lambda x: x['inter1'])\n",
    "permits['inter2'] = permits['matches'].map(lambda x: x['inter2'])\n",
    "permits['boro'] = permits['matches'].map(lambda x: x['boro'])\n",
    "\n",
    "permits.drop(columns='matches', inplace=True)"
   ]
  },
  {
   "cell_type": "code",
   "execution_count": 13,
   "metadata": {},
   "outputs": [
    {
     "name": "stdout",
     "output_type": "stream",
     "text": [
      "211785 of 237863 intersection pairs found.\n"
     ]
    }
   ],
   "source": [
    "found = len(permits)\n",
    "missing = len(permits.loc[permits['inter1'].isnull()])\n",
    "print(f'{found - missing} of {found} intersection pairs found.')"
   ]
  },
  {
   "cell_type": "code",
   "execution_count": 14,
   "metadata": {},
   "outputs": [],
   "source": [
    "from shapely.geometry import MultiLineString, LineString\n",
    "from shapely.ops import nearest_points"
   ]
  },
  {
   "cell_type": "code",
   "execution_count": 15,
   "metadata": {},
   "outputs": [],
   "source": [
    "streets = gpd.read_file('../data/nyc_clean.geojson')"
   ]
  },
  {
   "cell_type": "code",
   "execution_count": 16,
   "metadata": {},
   "outputs": [
    {
     "data": {
      "text/html": [
       "<div>\n",
       "<style scoped>\n",
       "    .dataframe tbody tr th:only-of-type {\n",
       "        vertical-align: middle;\n",
       "    }\n",
       "\n",
       "    .dataframe tbody tr th {\n",
       "        vertical-align: top;\n",
       "    }\n",
       "\n",
       "    .dataframe thead th {\n",
       "        text-align: right;\n",
       "    }\n",
       "</style>\n",
       "<table border=\"1\" class=\"dataframe\">\n",
       "  <thead>\n",
       "    <tr style=\"text-align: right;\">\n",
       "      <th></th>\n",
       "      <th>name</th>\n",
       "      <th>boro</th>\n",
       "      <th>osm_name</th>\n",
       "      <th>front_card</th>\n",
       "      <th>middle_card</th>\n",
       "      <th>back_card</th>\n",
       "      <th>st_num</th>\n",
       "      <th>way_type</th>\n",
       "      <th>way_name</th>\n",
       "      <th>geometry</th>\n",
       "    </tr>\n",
       "  </thead>\n",
       "  <tbody>\n",
       "    <tr>\n",
       "      <th>0</th>\n",
       "      <td>100 avenue</td>\n",
       "      <td>queens</td>\n",
       "      <td>100th avenue</td>\n",
       "      <td>None</td>\n",
       "      <td>None</td>\n",
       "      <td>None</td>\n",
       "      <td>100</td>\n",
       "      <td>avenue</td>\n",
       "      <td>None</td>\n",
       "      <td>MULTILINESTRING ((-73.74175 40.71573, -73.7413...</td>\n",
       "    </tr>\n",
       "    <tr>\n",
       "      <th>1</th>\n",
       "      <td>100 drive</td>\n",
       "      <td>queens</td>\n",
       "      <td>100th drive</td>\n",
       "      <td>None</td>\n",
       "      <td>None</td>\n",
       "      <td>None</td>\n",
       "      <td>100</td>\n",
       "      <td>drive</td>\n",
       "      <td>None</td>\n",
       "      <td>MULTILINESTRING ((-73.73203 40.71458, -73.7319...</td>\n",
       "    </tr>\n",
       "    <tr>\n",
       "      <th>2</th>\n",
       "      <td>100 place</td>\n",
       "      <td>queens</td>\n",
       "      <td>100th place</td>\n",
       "      <td>None</td>\n",
       "      <td>None</td>\n",
       "      <td>None</td>\n",
       "      <td>100</td>\n",
       "      <td>place</td>\n",
       "      <td>None</td>\n",
       "      <td>LINESTRING (-73.81879 40.60576, -73.81889 40.6...</td>\n",
       "    </tr>\n",
       "  </tbody>\n",
       "</table>\n",
       "</div>"
      ],
      "text/plain": [
       "         name    boro      osm_name front_card middle_card back_card st_num  \\\n",
       "0  100 avenue  queens  100th avenue       None        None      None    100   \n",
       "1   100 drive  queens   100th drive       None        None      None    100   \n",
       "2   100 place  queens   100th place       None        None      None    100   \n",
       "\n",
       "  way_type way_name                                           geometry  \n",
       "0   avenue     None  MULTILINESTRING ((-73.74175 40.71573, -73.7413...  \n",
       "1    drive     None  MULTILINESTRING ((-73.73203 40.71458, -73.7319...  \n",
       "2    place     None  LINESTRING (-73.81879 40.60576, -73.81889 40.6...  "
      ]
     },
     "execution_count": 16,
     "metadata": {},
     "output_type": "execute_result"
    }
   ],
   "source": [
    "streets.head(3)"
   ]
  },
  {
   "cell_type": "code",
   "execution_count": 17,
   "metadata": {},
   "outputs": [],
   "source": [
    "streets_dict = {}\n",
    "for i in range(0, len(streets)):\n",
    "    street = streets.iloc[i]['name']\n",
    "    boro = streets.iloc[i]['boro']\n",
    "    name = street + ', ' + boro\n",
    "    streets_dict[name] = streets.iloc[i]['geometry']"
   ]
  },
  {
   "cell_type": "code",
   "execution_count": 18,
   "metadata": {},
   "outputs": [],
   "source": [
    "def get_parkingheld(row: pd.Series, streets_dict: dict) -> MultiLineString | LineString | None:\n",
    "    inter1 = row['inter1']\n",
    "    if inter1 is None:\n",
    "        return None\n",
    "    inter2 = row['inter2']\n",
    "    boro = row['boro']\n",
    "\n",
    "    # If MultiPoint objects only choose closest points (smallest distance between intersections)\n",
    "    inter1, inter2 = nearest_points(inter1, inter2)\n",
    "    both_inter = inter1.union(inter2)\n",
    "    \n",
    "    # Capture street segments between street intersections with circle between street intersections\n",
    "    m_street = streets_dict[row['m_street'] + ', ' + boro]\n",
    "    center = both_inter.centroid\n",
    "    diameter = inter1.distance(inter2)\n",
    "    circle = center.buffer(diameter / 2)\n",
    "    ph = circle.intersection(m_street)\n",
    "\n",
    "    return ph"
   ]
  },
  {
   "cell_type": "code",
   "execution_count": 19,
   "metadata": {},
   "outputs": [
    {
     "data": {
      "text/plain": [
       "Index(['eventid', 'startdate', 'enddate', 'entered', 'boro', 'category',\n",
       "       'subcategory', 'country', 'zipcode', 'parkingheld', 'm_street',\n",
       "       'c1_street', 'c2_street', 'm_front_card', 'm_middle_card',\n",
       "       'm_back_card', 'c1_front_card', 'c1_middle_card', 'c1_back_card',\n",
       "       'c2_front_card', 'c2_middle_card', 'c2_back_card', 'm_st_num',\n",
       "       'm_way_type', 'm_way_name', 'c1_st_num', 'c1_way_type', 'c1_way_name',\n",
       "       'c2_st_num', 'c2_way_type', 'c2_way_name', 'bronx', 'brooklyn',\n",
       "       'manhattan', 'queens', 'staten_island', 'inter1', 'inter2'],\n",
       "      dtype='object')"
      ]
     },
     "execution_count": 19,
     "metadata": {},
     "output_type": "execute_result"
    }
   ],
   "source": [
    "permits.columns"
   ]
  },
  {
   "cell_type": "code",
   "execution_count": 20,
   "metadata": {},
   "outputs": [
    {
     "name": "stderr",
     "output_type": "stream",
     "text": [
      "/Users/waynelam/miniconda3/envs/geo_env/lib/python3.10/site-packages/pandas/core/dtypes/cast.py:118: ShapelyDeprecationWarning: The array interface is deprecated and will no longer work in Shapely 2.0. Convert the '.coords' to a numpy array instead.\n",
      "  arr = construct_1d_object_array_from_listlike(values)\n",
      "/Users/waynelam/miniconda3/envs/geo_env/lib/python3.10/site-packages/pandas/core/dtypes/cast.py:1990: ShapelyDeprecationWarning: __len__ for multi-part geometries is deprecated and will be removed in Shapely 2.0. Check the length of the `geoms` property instead to get the  number of parts of a multi-part geometry.\n",
      "  result[:] = values\n"
     ]
    }
   ],
   "source": [
    "permits['geometry'] = permits.apply(lambda x: get_parkingheld(x, streets_dict), axis=1)\n",
    "permits = permits[[\n",
    "    'eventid',\n",
    "    'startdate',\n",
    "    'enddate',\n",
    "    'boro',\n",
    "    'category',\n",
    "    'subcategory',\n",
    "    'country',\n",
    "    'parkingheld',\n",
    "    'm_street',\n",
    "    'c1_street',\n",
    "    'c2_street',\n",
    "    'geometry'\n",
    "]]"
   ]
  },
  {
   "cell_type": "code",
   "execution_count": 21,
   "metadata": {},
   "outputs": [],
   "source": [
    "geo_permits = gpd.GeoDataFrame(permits)"
   ]
  },
  {
   "cell_type": "code",
   "execution_count": 22,
   "metadata": {},
   "outputs": [
    {
     "name": "stdout",
     "output_type": "stream",
     "text": [
      "<class 'geopandas.geodataframe.GeoDataFrame'>\n",
      "Int64Index: 237863 entries, 0 to 237878\n",
      "Data columns (total 12 columns):\n",
      " #   Column       Non-Null Count   Dtype   \n",
      "---  ------       --------------   -----   \n",
      " 0   eventid      237863 non-null  int64   \n",
      " 1   startdate    237863 non-null  object  \n",
      " 2   enddate      237863 non-null  object  \n",
      " 3   boro         237863 non-null  object  \n",
      " 4   category     237863 non-null  object  \n",
      " 5   subcategory  237863 non-null  object  \n",
      " 6   country      237863 non-null  object  \n",
      " 7   parkingheld  237863 non-null  object  \n",
      " 8   m_street     237863 non-null  object  \n",
      " 9   c1_street    237863 non-null  object  \n",
      " 10  c2_street    237863 non-null  object  \n",
      " 11  geometry     211785 non-null  geometry\n",
      "dtypes: geometry(1), int64(1), object(10)\n",
      "memory usage: 23.6+ MB\n"
     ]
    }
   ],
   "source": [
    "geo_permits.info()"
   ]
  },
  {
   "cell_type": "code",
   "execution_count": 23,
   "metadata": {},
   "outputs": [],
   "source": [
    "geo_permits.to_file('../data/geo_permits.geojson', driver='GeoJSON')"
   ]
  },
  {
   "cell_type": "code",
   "execution_count": null,
   "metadata": {},
   "outputs": [],
   "source": []
  }
 ],
 "metadata": {
  "interpreter": {
   "hash": "dd527bd4d3b651047994c597e1ec3692baa832bfd0d87b2b2957688b5d65bc7a"
  },
  "kernelspec": {
   "display_name": "Python 3.10.1 ('geo_env')",
   "language": "python",
   "name": "python3"
  },
  "language_info": {
   "codemirror_mode": {
    "name": "ipython",
    "version": 3
   },
   "file_extension": ".py",
   "mimetype": "text/x-python",
   "name": "python",
   "nbconvert_exporter": "python",
   "pygments_lexer": "ipython3",
   "version": "3.10.1"
  },
  "orig_nbformat": 4
 },
 "nbformat": 4,
 "nbformat_minor": 2
}
