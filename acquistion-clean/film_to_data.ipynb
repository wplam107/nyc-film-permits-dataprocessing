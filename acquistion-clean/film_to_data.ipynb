{
 "cells": [
  {
   "cell_type": "code",
   "execution_count": 1,
   "metadata": {},
   "outputs": [],
   "source": [
    "from sodapy import Socrata\n",
    "from configparser import ConfigParser"
   ]
  },
  {
   "cell_type": "code",
   "execution_count": 2,
   "metadata": {},
   "outputs": [],
   "source": [
    "config = ConfigParser()\n",
    "config.read('./config.ini')\n",
    "api_key = config['socrata']['APP_TOKEN']\n",
    "client = Socrata(\"data.cityofnewyork.us\", api_key)"
   ]
  },
  {
   "cell_type": "code",
   "execution_count": 3,
   "metadata": {},
   "outputs": [],
   "source": [
    "query = (\n",
    "    \"\"\"\n",
    "    SELECT *\n",
    "    WHERE eventtype = \"Shooting Permit\" OR eventtype = \"DCAS Prep/Shoot/Wrap Permit\"\n",
    "    ORDER BY startdatetime DESC\n",
    "    LIMIT 100000\n",
    "    \"\"\"\n",
    ")\n",
    "results = client.get(\"tg4x-b46p\", query=query)"
   ]
  },
  {
   "cell_type": "code",
   "execution_count": 4,
   "metadata": {},
   "outputs": [
    {
     "name": "stdout",
     "output_type": "stream",
     "text": [
      "Number of permits: 66480\n"
     ]
    }
   ],
   "source": [
    "print('Number of permits:', len(results))"
   ]
  },
  {
   "cell_type": "code",
   "execution_count": 5,
   "metadata": {},
   "outputs": [
    {
     "name": "stdout",
     "output_type": "stream",
     "text": [
      "{'eventid': '623629', 'eventtype': 'Shooting Permit', 'startdatetime': '2022-02-02T09:00:00.000', 'enddatetime': '2022-02-03T00:00:00.000', 'enteredon': '2022-01-28T17:02:55.000', 'eventagency': \"Mayor's Office of Film, Theatre & Broadcasting\", 'parkingheld': 'PRINCE STREET between BOWERY and LAFAYETTE STREET,  MOTT STREET between EAST HOUSTON STREET and PRINCE STREET,  MULBERRY STREET between EAST HOUSTON STREET and PRINCE STREET,  LAFAYETTE STREET between EAST HOUSTON STREET and PRINCE STREET,  MOTT STREET between PRINCE STREET and SPRING STREET,  MULBERRY STREET between PRINCE STREET and SPRING STREET,  BROADWAY between BROOME STREET and GRAND STREET,  WOOSTER STREET between PRINCE STREET and BROOME STREET,  SPRING STREET between WOOSTER STREET and GREENE STREET,  BROOME STREET between WOOSTER STREET and GREENE STREET,  WEST   21 STREET between 5 AVENUE and 6 AVENUE,  WEST   21 STREET between 6 AVENUE and 7 AVENUE,  6 AVENUE between WEST   22 STREET and WEST   21 STREET,  6 AVENUE between WEST   21 STREET and WEST   20 STREET,  5 AVENUE between WEST   22 STREET and WEST   20 STREET,  7 AVENUE between WEST   16 STREET and WEST   19 STREET,  WEST   17 STREET between 7 AVENUE and 8 AVENUE', 'borough': 'Manhattan', 'communityboard_s': '2, 4, 5', 'policeprecinct_s': '1, 10, 13, 5', 'category': 'Television', 'subcategoryname': 'Episodic series', 'country': 'United States of America', 'zipcode_s': '10010, 10011, 10012, 10013'}\n"
     ]
    }
   ],
   "source": [
    "sample = results[0]\n",
    "print(sample)"
   ]
  },
  {
   "cell_type": "code",
   "execution_count": 6,
   "metadata": {},
   "outputs": [],
   "source": [
    "for r in results:\n",
    "    r['parkingheld'] = [ ' '.join(street.split()).lower() for street in r['parkingheld'].split(', ') ]\n",
    "    r['zipcode_s'] = r['zipcode_s'].split(', ')\n",
    "    r['startdatetime'] = r['startdatetime'].split('T')[0]\n",
    "    r['enddatetime'] = r['enddatetime'].split('T')[0]\n",
    "    r['enteredon'] = r['enteredon'].split('T')[0]"
   ]
  },
  {
   "cell_type": "code",
   "execution_count": 7,
   "metadata": {},
   "outputs": [
    {
     "name": "stdout",
     "output_type": "stream",
     "text": [
      "{'eventid': '623629', 'eventtype': 'Shooting Permit', 'startdatetime': '2022-02-02', 'enddatetime': '2022-02-03', 'enteredon': '2022-01-28', 'eventagency': \"Mayor's Office of Film, Theatre & Broadcasting\", 'parkingheld': ['prince street between bowery and lafayette street', 'mott street between east houston street and prince street', 'mulberry street between east houston street and prince street', 'lafayette street between east houston street and prince street', 'mott street between prince street and spring street', 'mulberry street between prince street and spring street', 'broadway between broome street and grand street', 'wooster street between prince street and broome street', 'spring street between wooster street and greene street', 'broome street between wooster street and greene street', 'west 21 street between 5 avenue and 6 avenue', 'west 21 street between 6 avenue and 7 avenue', '6 avenue between west 22 street and west 21 street', '6 avenue between west 21 street and west 20 street', '5 avenue between west 22 street and west 20 street', '7 avenue between west 16 street and west 19 street', 'west 17 street between 7 avenue and 8 avenue'], 'borough': 'Manhattan', 'communityboard_s': '2, 4, 5', 'policeprecinct_s': '1, 10, 13, 5', 'category': 'Television', 'subcategoryname': 'Episodic series', 'country': 'United States of America', 'zipcode_s': ['10010', '10011', '10012', '10013']}\n"
     ]
    }
   ],
   "source": [
    "print(sample)"
   ]
  },
  {
   "cell_type": "code",
   "execution_count": 8,
   "metadata": {},
   "outputs": [],
   "source": [
    "def get_streets(permit: dict) -> list[dict]:\n",
    "    streets = []\n",
    "    for street in permit['parkingheld']:\n",
    "        street_dict = {\n",
    "            'eventid': permit['eventid'],\n",
    "            'startdate': permit['startdatetime'],\n",
    "            'enddate': permit['enddatetime'],\n",
    "            'entered': permit['enteredon'],\n",
    "            'boro': permit['borough'].lower(),\n",
    "            'category': permit['category'],\n",
    "            'subcategory': permit['subcategoryname'],\n",
    "            'country': permit['country'],\n",
    "            'zipcode': permit['zipcode_s']\n",
    "        }\n",
    "        street_dict['parkingheld'] = street\n",
    "        streets.append(street_dict)\n",
    "\n",
    "    return streets"
   ]
  },
  {
   "cell_type": "code",
   "execution_count": 9,
   "metadata": {},
   "outputs": [],
   "source": [
    "data = []\n",
    "for permit in results:\n",
    "    data += get_streets(permit)"
   ]
  },
  {
   "cell_type": "code",
   "execution_count": 10,
   "metadata": {},
   "outputs": [
    {
     "name": "stdout",
     "output_type": "stream",
     "text": [
      "{'eventid': '623629', 'startdate': '2022-02-02', 'enddate': '2022-02-03', 'entered': '2022-01-28', 'boro': 'manhattan', 'category': 'Television', 'subcategory': 'Episodic series', 'country': 'United States of America', 'zipcode': ['10010', '10011', '10012', '10013'], 'parkingheld': 'prince street between bowery and lafayette street'}\n"
     ]
    }
   ],
   "source": [
    "print(data[0])"
   ]
  },
  {
   "cell_type": "code",
   "execution_count": 11,
   "metadata": {},
   "outputs": [
    {
     "data": {
      "text/plain": [
       "237879"
      ]
     },
     "execution_count": 11,
     "metadata": {},
     "output_type": "execute_result"
    }
   ],
   "source": [
    "len(data)"
   ]
  },
  {
   "cell_type": "code",
   "execution_count": 12,
   "metadata": {},
   "outputs": [],
   "source": [
    "def split_streets(parkingheld: str) -> tuple:\n",
    "    try:\n",
    "        parkingheld = parkingheld.split(' between ')\n",
    "        main = parkingheld[0]\n",
    "        sec_streets = parkingheld[1].split(' and ')\n",
    "        sec1 = sec_streets[0]\n",
    "        sec2 = sec_streets[1]\n",
    "    except:\n",
    "        return None\n",
    "\n",
    "    return (main, sec1, sec2)"
   ]
  },
  {
   "cell_type": "code",
   "execution_count": 13,
   "metadata": {},
   "outputs": [],
   "source": [
    "for datum in data:\n",
    "    streets = split_streets(datum['parkingheld'])\n",
    "    datum['m_street'] = streets[0] if streets else None\n",
    "    datum['c1_street'] = streets[1] if streets else None\n",
    "    datum['c2_street'] = streets[2] if streets else None"
   ]
  },
  {
   "cell_type": "code",
   "execution_count": 14,
   "metadata": {},
   "outputs": [
    {
     "name": "stdout",
     "output_type": "stream",
     "text": [
      "{'eventid': '623629', 'startdate': '2022-02-02', 'enddate': '2022-02-03', 'entered': '2022-01-28', 'boro': 'manhattan', 'category': 'Television', 'subcategory': 'Episodic series', 'country': 'United States of America', 'zipcode': ['10010', '10011', '10012', '10013'], 'parkingheld': 'prince street between bowery and lafayette street', 'm_street': 'prince street', 'c1_street': 'bowery', 'c2_street': 'lafayette street'}\n"
     ]
    }
   ],
   "source": [
    "print(data[0])"
   ]
  },
  {
   "cell_type": "code",
   "execution_count": 15,
   "metadata": {},
   "outputs": [],
   "source": [
    "import json"
   ]
  },
  {
   "cell_type": "code",
   "execution_count": 16,
   "metadata": {},
   "outputs": [],
   "source": [
    "with open('../data/permits.json', 'w') as f:\n",
    "    json.dump(data, f)"
   ]
  }
 ],
 "metadata": {
  "interpreter": {
   "hash": "dd527bd4d3b651047994c597e1ec3692baa832bfd0d87b2b2957688b5d65bc7a"
  },
  "kernelspec": {
   "display_name": "Python 3.10.1 ('geo_env')",
   "language": "python",
   "name": "python3"
  },
  "language_info": {
   "codemirror_mode": {
    "name": "ipython",
    "version": 3
   },
   "file_extension": ".py",
   "mimetype": "text/x-python",
   "name": "python",
   "nbconvert_exporter": "python",
   "pygments_lexer": "ipython3",
   "version": "3.10.1"
  },
  "orig_nbformat": 4
 },
 "nbformat": 4,
 "nbformat_minor": 2
}
