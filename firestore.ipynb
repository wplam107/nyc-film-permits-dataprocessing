{
 "cells": [
  {
   "cell_type": "code",
   "execution_count": 2,
   "metadata": {},
   "outputs": [],
   "source": [
    "import firebase_admin # Note must run: pip install --no-binary :all: grpcio --ignore-installed\n",
    "from firebase_admin import credentials\n",
    "from firebase_admin import firestore\n",
    "\n",
    "import json\n",
    "from datetime import datetime"
   ]
  },
  {
   "cell_type": "code",
   "execution_count": 3,
   "metadata": {},
   "outputs": [],
   "source": [
    "# Use service account\n",
    "cred = credentials.Certificate('./serviceAccountKey.json')\n",
    "firebase_admin.initialize_app(cred)\n",
    "\n",
    "# Initilize db client\n",
    "db = firestore.client()"
   ]
  },
  {
   "cell_type": "code",
   "execution_count": 4,
   "metadata": {},
   "outputs": [],
   "source": [
    "with open('./data/firestore_permits.geojson', 'r') as f:\n",
    "    permits = json.load(f)['features']"
   ]
  },
  {
   "cell_type": "code",
   "execution_count": 5,
   "metadata": {},
   "outputs": [],
   "source": [
    "def groupby_eventid(permits: list[dict]) -> list:\n",
    "    events = []\n",
    "    for perm in permits:\n",
    "        props = perm['properties']\n",
    "        event = {\n",
    "            u'eventid': f'{props[\"eventid\"]}',\n",
    "            u'startdate': datetime.strptime(props['startdate'], '%Y-%m-%d'),\n",
    "            u'enddate': datetime.strptime(props['enddate'], '%Y-%m-%d'),\n",
    "            u'boro': props['boro'].capitalize(),\n",
    "            u'category': props['category'],\n",
    "            u'subcategory': props['subcategory'],\n",
    "            u'country': props['country'],\n",
    "            u'streets': props['parkingheld'],\n",
    "            u'geoms': {\n",
    "                u'type': 'FeatureCollection',\n",
    "                u'features': [{\n",
    "                    u'type': 'feature',\n",
    "                    u'properties': {'eventid': props['eventid']},\n",
    "                    u'geometry': f\"{perm['geometry']}\"\n",
    "                }]\n",
    "            }\n",
    "        }\n",
    "        events.append(event)\n",
    "\n",
    "    return events"
   ]
  },
  {
   "cell_type": "code",
   "execution_count": 6,
   "metadata": {},
   "outputs": [],
   "source": [
    "docs = groupby_eventid(permits)"
   ]
  },
  {
   "cell_type": "code",
   "execution_count": 9,
   "metadata": {},
   "outputs": [],
   "source": [
    "ref = db.collection('permits')\n",
    "query = ref.where('country', '==', 'Japan').limit(1)\n",
    "results = query.get()"
   ]
  },
  {
   "cell_type": "code",
   "execution_count": 12,
   "metadata": {},
   "outputs": [
    {
     "data": {
      "text/plain": [
       "{'eventid': '43237',\n",
       " 'country': 'Japan',\n",
       " 'enddate': DatetimeWithNanoseconds(2012, 1, 5, 0, 0, tzinfo=datetime.timezone.utc),\n",
       " 'boro': 'Manhattan',\n",
       " 'category': 'Television',\n",
       " 'subcategory': 'News',\n",
       " 'startdate': DatetimeWithNanoseconds(2012, 1, 5, 0, 0, tzinfo=datetime.timezone.utc),\n",
       " 'streets': 'mulberry street between spring street and kenmare street',\n",
       " 'geoms': {'type': 'FeatureCollection',\n",
       "  'features': [{'geometry': \"{'type': 'LineString', 'coordinates': [[-73.99657460431074, 40.721173841340175], [-73.9965408, 40.7212591], [-73.9962831, 40.7219082], [-73.99626569557012, 40.72195215861719]]}\",\n",
       "    'properties': {'eventid': 43237},\n",
       "    'type': 'feature'}]}}"
      ]
     },
     "execution_count": 12,
     "metadata": {},
     "output_type": "execute_result"
    }
   ],
   "source": [
    "results[0].to_dict()"
   ]
  },
  {
   "cell_type": "code",
   "execution_count": 27,
   "metadata": {},
   "outputs": [],
   "source": [
    "def write_metadata(docs: list, db: firestore.client):\n",
    "    meta_ref = db.collection('metadata').document('metadata')\n",
    "    result = meta_ref.get().to_dict()\n",
    "\n",
    "    latest = result['latest_start']\n",
    "    earliest = result['earliest_start']\n",
    "    data_updates = result['data_updates'] + [datetime.now()]\n",
    "    countries = result['countries']\n",
    "    categories = result['categories']\n",
    "    new_latest = None\n",
    "    new_earliest = None\n",
    "\n",
    "    for doc in docs:\n",
    "        if new_latest == None:\n",
    "            new_latest = doc['startdate']\n",
    "        if new_earliest == None:\n",
    "            new_earliest = doc['startdate']\n",
    "        if doc['startdate'] > new_latest:\n",
    "            new_latest = doc['startdate']\n",
    "        if doc['startdate'] < new_earliest:\n",
    "            new_earliest = doc['startdate']\n",
    "        if doc['country'] not in countries:\n",
    "            countries.append(doc['country'])\n",
    "        if doc['category'] not in categories.keys():\n",
    "            categories[doc['category']] = []\n",
    "        if doc['subcategory'] not in categories[doc['category']]:\n",
    "            categories[doc['category']].append(doc['subcategory'])\n",
    "\n",
    "    metadata = {\n",
    "        'latest_start': latest + [new_latest],\n",
    "        'earliest_start': earliest + [new_earliest],\n",
    "        'data_updates': data_updates,\n",
    "        'countries': countries,\n",
    "        'categories': categories,\n",
    "        'update_count': firestore.Increment(1)\n",
    "    }\n",
    "\n",
    "    meta_result = meta_ref.update(metadata)\n",
    "\n",
    "    return meta_result"
   ]
  },
  {
   "cell_type": "code",
   "execution_count": 15,
   "metadata": {},
   "outputs": [],
   "source": [
    "def write_permits(docs: list, db: firestore.client):    \n",
    "    # Set batch operation\n",
    "    batch = db.batch()\n",
    "\n",
    "    # Batch write to Firestore\n",
    "    results = []\n",
    "    for i in range(0, len(docs)):\n",
    "        doc = docs[i]\n",
    "        ref = db.collection(u'permits').document(doc['eventid'])\n",
    "        batch.set(ref, doc)\n",
    "        if i % 500 == 0:\n",
    "            result = batch.commit()\n",
    "            results.append(result)\n",
    "    result = batch.commit()\n",
    "    results.append(result)\n",
    "\n",
    "    # Write metadata\n",
    "    meta_result = write_metadata(docs, db)\n",
    "\n",
    "    return results, meta_result"
   ]
  },
  {
   "cell_type": "code",
   "execution_count": 16,
   "metadata": {},
   "outputs": [],
   "source": [
    "results, meta_result = write_permits(docs, db)"
   ]
  },
  {
   "cell_type": "code",
   "execution_count": 19,
   "metadata": {},
   "outputs": [
    {
     "data": {
      "text/plain": [
       "update_time {\n",
       "  seconds: 1652364859\n",
       "  nanos: 894707000\n",
       "}"
      ]
     },
     "execution_count": 19,
     "metadata": {},
     "output_type": "execute_result"
    }
   ],
   "source": [
    "meta_result"
   ]
  }
 ],
 "metadata": {
  "interpreter": {
   "hash": "dd527bd4d3b651047994c597e1ec3692baa832bfd0d87b2b2957688b5d65bc7a"
  },
  "kernelspec": {
   "display_name": "Python 3.10.1 ('geo_env')",
   "language": "python",
   "name": "python3"
  },
  "language_info": {
   "codemirror_mode": {
    "name": "ipython",
    "version": 3
   },
   "file_extension": ".py",
   "mimetype": "text/x-python",
   "name": "python",
   "nbconvert_exporter": "python",
   "pygments_lexer": "ipython3",
   "version": "3.10.1"
  },
  "orig_nbformat": 4
 },
 "nbformat": 4,
 "nbformat_minor": 2
}
